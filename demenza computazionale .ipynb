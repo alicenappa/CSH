{
 "cells": [
  {
   "cell_type": "code",
   "execution_count": 5,
   "metadata": {},
   "outputs": [
    {
     "name": "stdout",
     "output_type": "stream",
     "text": [
      "Requirement already satisfied: deap in c:\\users\\alice\\anaconda3\\lib\\site-packages (1.3.1)\n",
      "Requirement already satisfied: numpy in c:\\users\\alice\\anaconda3\\lib\\site-packages (from deap) (1.18.1)\n",
      "Note: you may need to restart the kernel to use updated packages.\n"
     ]
    }
   ],
   "source": [
    "pip install deap"
   ]
  },
  {
   "cell_type": "code",
   "execution_count": 177,
   "metadata": {},
   "outputs": [],
   "source": [
    "from deap import base\n",
    "from deap import creator\n",
    "from deap import tools\n",
    "import random\n",
    "\n",
    "\n",
    "\n",
    "#funzione di valutazione\n",
    "def eval_fun(ind):\n",
    "    pop =ind[0]\n",
    "    so  =ind[1]\n",
    "    ar = ind[2]\n",
    "    re = ind[3]\n",
    "    x=((pop+so)*re+ar**2)/pop**2\n",
    "    return x \n",
    "creator.create(\"FitnessMax\", base.Fitness, weights=(1.0,))\n",
    "creator.create(\"Individual\", list, fitness=creator.FitnessMax)\n",
    "\n",
    "\n",
    "\n",
    "def parameters ():\n",
    "  n = 1000\n",
    "  pop =random.randrange(1,n-1)\n",
    "  re = random.randrange(1,n-pop)\n",
    "  ar = random.randrange(0, n-pop-re)\n",
    "  so =  n-(pop+re+ar)\n",
    "  x = 0\n",
    "  y = 0\n",
    "  return [pop,so,ar,re,x,y]\n",
    "\n",
    "#funzione di valutazione forza Nazione\n",
    "\n",
    "\n",
    "NUM_POP=100\n",
    "#creazione della classe e registrazione individui nella popolazione\n",
    "toolbox = base.Toolbox()\n",
    "# Attribute generator3\n",
    "toolbox.register(\"parameters\", parameters)\n",
    "# Structure initializers\n",
    "toolbox.register(\"Nation\", tools.initRepeat, creator.Individual,toolbox.parameters, NUM_POP)\n",
    "toolbox.register(\"population\", tools.initRepeat, list, toolbox.Nation)\n",
    "toolbox.register(\"evaluate\", eval_fun)"
   ]
  },
  {
   "cell_type": "code",
   "execution_count": 202,
   "metadata": {},
   "outputs": [
    {
     "name": "stdout",
     "output_type": "stream",
     "text": [
      "[[[864, 4, 23, 109, 0, 0], [262, 126, 196, 416, 0, 0], [642, 254, 4, 100, 0, 0], [872, 41, 44, 43, 0, 0], [43, 451, 447, 59, 0, 0], [920, 16, 44, 20, 0, 0], [249, 251, 20, 480, 0, 0], [264, 10, 308, 418, 0, 0], [903, 58, 36, 3, 0, 0], [747, 11, 10, 232, 0, 0], [312, 52, 36, 600, 0, 0], [302, 150, 196, 352, 0, 0], [564, 157, 101, 178, 0, 0], [542, 207, 159, 92, 0, 0], [544, 38, 212, 206, 0, 0], [823, 33, 57, 87, 0, 0], [742, 176, 69, 13, 0, 0], [260, 65, 136, 539, 0, 0], [974, 2, 1, 23, 0, 0], [491, 222, 286, 1, 0, 0], [941, 8, 18, 33, 0, 0], [465, 56, 288, 191, 0, 0], [774, 57, 69, 100, 0, 0], [603, 248, 15, 134, 0, 0], [447, 15, 13, 525, 0, 0], [787, 76, 25, 112, 0, 0], [820, 7, 12, 161, 0, 0], [39, 541, 135, 285, 0, 0], [72, 135, 237, 556, 0, 0], [206, 8, 739, 47, 0, 0], [356, 246, 155, 243, 0, 0], [934, 11, 49, 6, 0, 0], [227, 188, 408, 177, 0, 0], [189, 12, 36, 763, 0, 0], [813, 27, 4, 156, 0, 0], [879, 3, 0, 118, 0, 0], [51, 104, 556, 289, 0, 0], [195, 121, 375, 309, 0, 0], [439, 490, 56, 15, 0, 0], [273, 332, 109, 286, 0, 0], [780, 25, 182, 13, 0, 0], [147, 290, 28, 535, 0, 0], [579, 14, 39, 368, 0, 0], [950, 30, 14, 6, 0, 0], [841, 38, 12, 109, 0, 0], [531, 296, 98, 75, 0, 0], [839, 79, 5, 77, 0, 0], [485, 33, 371, 111, 0, 0], [430, 358, 136, 76, 0, 0], [389, 428, 59, 124, 0, 0], [712, 41, 37, 210, 0, 0], [107, 6, 8, 879, 0, 0], [918, 2, 43, 37, 0, 0], [89, 367, 194, 350, 0, 0], [647, 18, 57, 278, 0, 0], [758, 5, 20, 217, 0, 0], [284, 419, 264, 33, 0, 0], [722, 6, 196, 76, 0, 0], [59, 54, 16, 871, 0, 0], [286, 291, 369, 54, 0, 0], [965, 9, 6, 20, 0, 0], [875, 44, 78, 3, 0, 0], [704, 163, 76, 57, 0, 0], [433, 373, 119, 75, 0, 0], [668, 209, 121, 2, 0, 0], [188, 222, 23, 567, 0, 0], [993, 3, 1, 3, 0, 0], [797, 8, 149, 46, 0, 0], [160, 479, 77, 284, 0, 0], [384, 364, 169, 83, 0, 0], [416, 573, 3, 8, 0, 0], [81, 802, 69, 48, 0, 0], [316, 57, 224, 403, 0, 0], [649, 158, 178, 15, 0, 0], [559, 235, 73, 133, 0, 0], [644, 44, 238, 74, 0, 0], [211, 20, 107, 662, 0, 0], [737, 125, 40, 98, 0, 0], [101, 267, 533, 99, 0, 0], [758, 178, 50, 14, 0, 0], [840, 15, 14, 131, 0, 0], [189, 53, 666, 92, 0, 0], [760, 92, 62, 86, 0, 0], [193, 182, 617, 8, 0, 0], [584, 108, 133, 175, 0, 0], [998, 1, 0, 1, 0, 0], [301, 95, 75, 529, 0, 0], [653, 178, 86, 83, 0, 0], [35, 90, 176, 699, 0, 0], [337, 165, 43, 455, 0, 0], [867, 4, 61, 68, 0, 0], [649, 30, 2, 319, 0, 0], [792, 82, 16, 110, 0, 0], [529, 123, 133, 215, 0, 0], [926, 4, 44, 26, 0, 0], [639, 35, 89, 237, 0, 0], [771, 37, 5, 187, 0, 0], [443, 54, 241, 262, 0, 0], [25, 437, 399, 139, 0, 0], [353, 202, 64, 381, 0, 0]]]\n"
     ]
    }
   ],
   "source": [
    "tot_pop=toolbox.population(n=1)\n",
    "print(tot_pop)"
   ]
  },
  {
   "cell_type": "markdown",
   "metadata": {},
   "source": [
    "Inserire mutazioni e accoppiamenti"
   ]
  },
  {
   "cell_type": "code",
   "execution_count": 203,
   "metadata": {
    "scrolled": true
   },
   "outputs": [
    {
     "name": "stdout",
     "output_type": "stream",
     "text": [
      "0.1274501135973937\n",
      "[864, 4, 23, 109, 0, 0]\n"
     ]
    }
   ],
   "source": [
    "def mating_fun(population):\n",
    "    tools.cxTwoPoint(ind1, ind2)\n",
    "    ind1=radom.randint(0,NUM_POP-1)\n",
    "    ind2=ind1\n",
    "    while ind2==ind1: \n",
    "        ind2=radom.randint(0,NUM_POP-1)\n",
    "    \n",
    "    #ind2=random.randint(0,ind1)+random.randint(ind1+1,NUM_POP-1)\n",
    "    \n",
    "    #toolbox.population[ind1][random.randint(0,4)]\n",
    "print(toolbox.evaluate(tot_pop[0][0])) \n",
    "print(tot_pop[0][0])\n"
   ]
  },
  {
   "cell_type": "code",
   "execution_count": null,
   "metadata": {},
   "outputs": [],
   "source": []
  },
  {
   "cell_type": "code",
   "execution_count": 222,
   "metadata": {},
   "outputs": [
    {
     "name": "stdout",
     "output_type": "stream",
     "text": [
      "[262, 294, 0, 145, 0, 0] [407, 0, 448, 444, 0, 0]\n",
      "([262, 0, 0, 145, 0, 0], [407, 294, 448, 444, 0, 0])\n"
     ]
    }
   ],
   "source": [
    "def mating(ind1, ind2):\n",
    "    Ind1, Ind2 = tools.cxOnePoint(ind1, ind2)[0], tools.cxOnePoint(ind1, ind2)[1]\n",
    "    s1 = sum(Ind1)\n",
    "    s2 = sum (Ind2)\n",
    "    if s1 >1000:\n",
    "        n = random.randint(0,3)\n",
    "        Ind1[n]+=1000-s1\n",
    "        if Ind1[n]<=0:\n",
    "            neg = Ind1[n]\n",
    "            maximum = max(Ind1)\n",
    "            i = Ind1.index(maximum)\n",
    "            Ind1[i]+= neg\n",
    "            Ind1[n]=0\n",
    "        Ind2[n]-= 1000-s1\n",
    "        if Ind2[n]<=0:\n",
    "            neg = Ind2[n]\n",
    "            maximum = max(Ind1)\n",
    "            i = Ind2.index(maximum)\n",
    "            Ind2[i]+= neg\n",
    "            Ind2[n]=0\n",
    "    return Ind1, Ind2\n",
    "#toolbox.population[ind1]\n",
    "print(tot_pop[0][0], tot_pop[0][1])\n",
    "print(mating(tot_pop[0][0], tot_pop[0][1]))"
   ]
  },
  {
   "cell_type": "code",
   "execution_count": 216,
   "metadata": {},
   "outputs": [],
   "source": [
    "toolbox.register(\"evaluate\", eval_fun)\n",
    "#mating=alleanza \n",
    "toolbox.register(\"mate\", tools.cxTwoPoint)\n",
    "toolbox.register(\"mutate\", mating)\n",
    "toolbox.register(\"select\", tools.selTournament, tournsize=3)"
   ]
  },
  {
   "cell_type": "code",
   "execution_count": 183,
   "metadata": {},
   "outputs": [
    {
     "ename": "SyntaxError",
     "evalue": "unexpected EOF while parsing (<ipython-input-183-93d927668d6a>, line 2)",
     "output_type": "error",
     "traceback": [
      "\u001b[1;36m  File \u001b[1;32m\"<ipython-input-183-93d927668d6a>\"\u001b[1;36m, line \u001b[1;32m2\u001b[0m\n\u001b[1;33m    \u001b[0m\n\u001b[1;37m    ^\u001b[0m\n\u001b[1;31mSyntaxError\u001b[0m\u001b[1;31m:\u001b[0m unexpected EOF while parsing\n"
     ]
    }
   ],
   "source": [
    "def fight(ind1, ind2):\n",
    "    "
   ]
  },
  {
   "cell_type": "code",
   "execution_count": null,
   "metadata": {},
   "outputs": [],
   "source": []
  }
 ],
 "metadata": {
  "kernelspec": {
   "display_name": "Python 3",
   "language": "python",
   "name": "python3"
  },
  "language_info": {
   "codemirror_mode": {
    "name": "ipython",
    "version": 3
   },
   "file_extension": ".py",
   "mimetype": "text/x-python",
   "name": "python",
   "nbconvert_exporter": "python",
   "pygments_lexer": "ipython3",
   "version": "3.7.6"
  }
 },
 "nbformat": 4,
 "nbformat_minor": 4
}
