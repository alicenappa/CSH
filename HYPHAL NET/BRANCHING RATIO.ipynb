{
 "cells": [
  {
   "cell_type": "markdown",
   "id": "f6e0d32a-c5e5-478d-8c8d-7346b8e14b16",
   "metadata": {
    "jp-MarkdownHeadingCollapsed": true
   },
   "source": [
    "### Analyze the growth of the branches to caluclate apical branching ratio to see if they correspond to the same phenomena. "
   ]
  },
  {
   "cell_type": "code",
   "execution_count": 1,
   "id": "3368409a-d95a-4545-966f-64433fb54255",
   "metadata": {},
   "outputs": [],
   "source": [
    "#Imports needed\n",
    "import numpy as np #For everything                              version \n",
    "import matplotlib.pyplot as plt #For visualisation              version \n",
    "import networkx as nx #For the graph                            version \n",
    "from pickle import load as pload #For loading the gpickle file  version \n",
    "from PIL import Image #For image management                     version \n",
    "from tqdm import tqdm #For nice loading bars                    version \n",
    "from declaration_tutti import load, treat_a_new_reseau, load_from_scratch\n",
    "from fct_utils import prune,xy2t\n",
    "from fct_analyse import arbre_genealogique_branches,color_by_time\n",
    "#Our part:\n",
    "from Reseau import Reseau,Brindille,Branche \n",
    "from scipy.optimize import curve_fit\n",
    "from IPython.display import Image\n",
    "\n",
    "reseau= load('M2WT_200616',\"branched\")\n",
    "for b in reseau.branches:\n",
    "        b.n2x = reseau.n2x\n",
    "        b.n2y = reseau.n2y\n",
    "        b.n2t = reseau.n2t\n",
    "\n",
    "def abscisse_curviligne(branch)->np.ndarray:\n",
    "    \"\"\"\n",
    "    Renvoie la liste des abscisses curvilignes des noeuds de la branche\n",
    "    \"\"\"\n",
    "    pos = np.array([[branch.n2x[n],branch.n2y[n]] for n in branch.noeuds])\n",
    "    abscisse = np.sqrt(np.sum((pos[1:,:]-pos[:-1,:])**2,axis=-1))\n",
    "    abscisse = np.cumsum(abscisse)\n",
    "    abscisse = np.insert(abscisse,0,0)\n",
    "    return abscisse\n",
    "\n",
    "def distance(nodo1 , nodo2, branch):\n",
    "    list_ascisse = abscisse_curviligne(branch)\n",
    "    nodo_1 = branch.noeuds.index(nodo1)\n",
    "    nodo_2= branch.noeuds.index(nodo2)\n",
    "    distance = list_ascisse[nodo_2] - list_ascisse[nodo_1]\n",
    "    return distance"
   ]
  },
  {
   "cell_type": "code",
   "execution_count": 2,
   "id": "3f386350-2a1c-47c1-af47-23dccf0aa7a4",
   "metadata": {},
   "outputs": [],
   "source": [
    "tau = 5 \n",
    "for b in reseau.branches:\n",
    "    starting_node = b.noeuds[0]\n",
    "    starting_time = reseau.n2t[starting_node]\n",
    "    DELTA = b.get_tstart() - starting_time\n",
    "    if  DELTA  <= tau and DELTA > 0:       #there are some deltas< 0 ( a few, like 2 of them  vedi perchè) \n",
    "        b.nature = 'Apical'\n",
    "    else: b.nature = 'Lateral' "
   ]
  },
  {
   "cell_type": "code",
   "execution_count": 3,
   "id": "76f40f1f-427a-49ea-b10d-f5c13331b690",
   "metadata": {},
   "outputs": [],
   "source": [
    "apicalBranching = [b.noeuds[0]  #tutti i nodi di inizio di branch apicali.\n",
    "                       for b in reseau.branches \n",
    "                       if b.nature == \"Apical\"] "
   ]
  },
  {
   "cell_type": "markdown",
   "id": "07a8d889-7c33-47e0-a613-8599af0740a7",
   "metadata": {},
   "source": [
    "## $\\downarrow$ this is the normal code to get the apical sons belonging to apical/ lateral mothers, when the mother ends in fusion and the sons are born after the fusion of the mother. We take branching ratio datas for these branches BEFORE FUSION and after we compare it to the ones after fusion. \n",
    "\n",
    "#### stored in distances_dict_ap"
   ]
  },
  {
   "cell_type": "code",
   "execution_count": 4,
   "id": "8b6b3c20-dfa9-4160-9156-cf3abc65b625",
   "metadata": {},
   "outputs": [],
   "source": [
    "# Initialize dictionaries to store distances and time differences for each 'b'\n",
    "distances_dict_ap = {}\n",
    "time_diffs_dict_ap = {}\n",
    "\n",
    "\n",
    "# apical neighbors\n",
    "for b in reseau.branches:\n",
    "    if b.ending == 'Fusion?':                         \n",
    "        vicini_out = reseau.neighborhood()[b.index]['out']  \n",
    "        nodi_fuso = b.noeuds \n",
    "        t_fusione = b.get_tend()  \n",
    "        nodo_fusione = b.noeuds[-1]  \n",
    "        distances_dict_ap[b] = {}  \n",
    "        time_diffs_dict_ap[b] = {} \n",
    "        \n",
    "        for j in vicini_out:  \n",
    "            starting_node = j.noeuds[0] \n",
    "            if starting_node in apicalBranching:\n",
    "                if starting_node != nodo_fusione:  # If the starting node of the neighbor is the father of a lateral branch and is a node of no overlap \n",
    "                    # Calculate starting time as the time of the second element of the branchement  \n",
    "                    starting_time = j.get_tstart()  \n",
    "                    \n",
    "                    if t_fusione <= starting_time: #<= t_fusione + 1:\n",
    "                        if j != b: \n",
    "                            dis = distance(  starting_node,nodo_fusione, b)  \n",
    "                            time_diff = starting_time - t_fusione\n",
    "                            distances_dict_ap[b][j] = dis\n",
    "                            time_diffs_dict_ap[b][j] = time_diff\n"
   ]
  },
  {
   "cell_type": "markdown",
   "id": "0becd712-f847-4a95-ae57-63579c7e9a5c",
   "metadata": {},
   "source": [
    "## Follow apical branching born on the mothers that undergo fusion later on.  \n",
    "\n",
    "* loop on **mums** of branchements **born after fusion** \n",
    "* Take apical sons born BEFORE fusion \n",
    "* **storing in deltas_Ls_dictionary**\n",
    "\n",
    "* $\\Delta L$ is the distance from the fusion node and the birth of the son \n",
    "* $\\Delta T$  is the distance in time from the fusion node "
   ]
  },
  {
   "cell_type": "code",
   "execution_count": 5,
   "id": "79640d17-8e66-4354-9b09-9a345388be2b",
   "metadata": {},
   "outputs": [],
   "source": [
    "deltas_Ls_dictionary={}\n",
    "vitas_mom_dict = {}    #per i tempi \n",
    "deltas = {}\n",
    "distancess =[]\n",
    "timess =[]\n",
    "for b in distances_dict_ap.keys():                        #ciclo sulle mamme( ap o lateral che siano?) che finiscono MIB \n",
    "    t_fusione = b.get_tend() \n",
    "    t_start_mom = b.get_tstart()\n",
    "    vicini_out = reseau.neighborhood()[b.index]['out'] \n",
    "    nodo_fusione = b.noeuds[-1]\n",
    "    deltas_Ls_dictionary[b] = {} \n",
    "    deltas ={}  \n",
    "    vita = t_fusione - t_start_mom\n",
    "    for j in vicini_out:                            #prendo i vicini APICAL uscenti delle mamme\n",
    "        starting_node = j.noeuds[0] \n",
    "        starting_time = j.get_tstart() \n",
    "        if starting_node in apicalBranching: \n",
    "            if t_fusione >=  starting_time:  #DI QUELLI CHE NASCONO PRIMA DELLA FUSIONE DELLA MAMMA \n",
    "                dis = distance( starting_node,nodo_fusione, b)    #NE CALCOLO LA DISTANZA DALLA FUZIONE \n",
    "                deltas_Ls_dictionary[b][j] = dis   \n",
    "                vitas_mom_dict[b] = vita \n",
    "                distancess.append(distance(nodo_fusione, starting_node, b))\n",
    "                timess.append( -t_fusione + starting_time ) \n",
    "\n",
    "\n",
    "dizT = deltas_Ls_dictionary.copy()\n",
    "for b in dizT:\n",
    "    if dizT[b] == {}:\n",
    "       deltas_Ls_dictionary.pop(b)\n",
    "    "
   ]
  },
  {
   "cell_type": "markdown",
   "id": "bd90884f-b236-4dcb-9bc0-60e1717e1912",
   "metadata": {},
   "source": [
    "In the structure deltas_Ls_dictionary it's stored the distances from mother fusion node of all the apical branches outgoing from the mother BEFORE the fusion of the latter. The structure is like:  {mamma1:{figlio1: distance1 , figlio2: distance2 ...}}"
   ]
  },
  {
   "cell_type": "code",
   "execution_count": 6,
   "id": "8e86fec4-6373-418a-a3b2-ca0aaf55986d",
   "metadata": {},
   "outputs": [
    {
     "name": "stderr",
     "output_type": "stream",
     "text": [
      "C:\\Users\\alice\\AppData\\Local\\Temp\\ipykernel_8964\\3607521244.py:6: RuntimeWarning: divide by zero encountered in scalar divide\n",
      "  rates[b] = N/life\n"
     ]
    }
   ],
   "source": [
    "rates={}      #qui con rates intendiamo #apical branchings su quel ramo / tempo di vita del ramo? \n",
    "for b in deltas_Ls_dictionary:\n",
    "    N = len(deltas_Ls_dictionary[b]) \n",
    "    life = vitas_mom_dict[b]\n",
    "    \n",
    "    rates[b] = N/life\n"
   ]
  },
  {
   "cell_type": "markdown",
   "id": "6250de92-f1da-47c0-9fb6-318a3f96e293",
   "metadata": {},
   "source": [
    "Abbiamo calcolato il branching rate per ogni madre che presenta filgi nati dopo fusione. (SHOULD I CONSIDER MIB MOTHERS ? ) "
   ]
  },
  {
   "cell_type": "code",
   "execution_count": 7,
   "id": "31cf1b7f-f809-40ea-9fc0-5e3c48473d9d",
   "metadata": {},
   "outputs": [],
   "source": [
    "def abscisse_curviligne(b) -> (np.ndarray, float):\n",
    "    \"\"\"\n",
    "    Renvoie la liste des abscisses curvilignes des noeuds de la branche\n",
    "    et la longueur totale de la branche\n",
    "    \"\"\"\n",
    "    pos = np.array([[b.n2x[n], b.n2y[n]] for n in b.noeuds])\n",
    "    distances = np.sqrt(np.sum((pos[1:, :] - pos[:-1, :]) ** 2, axis=-1))\n",
    "    total_length = np.sum(distances)\n",
    "    abscisse = np.cumsum(distances)\n",
    "    abscisse = np.insert(abscisse, 0, 0)\n",
    "    return abscisse, total_length\n",
    "\n",
    "def lengths(reseau):\n",
    "     lens=[]\n",
    "     lengths = {n: [] for n in reseau.branches}\n",
    "     for b in reseau.branches: \n",
    "        value = abscisse_curviligne(b)[1]\n",
    "        lengths[b].append(value)\n",
    "     return lengths\n",
    "\n",
    "lenghts_dic= lengths(reseau)\n",
    "lens=[]\n",
    "for l in lengths(reseau).values():\n",
    "    if l[0] != 0:                           #ZEROS HAVE BEEN MANUALLY REMOVED\n",
    "        lens.append(l[0])\n",
    "\n"
   ]
  },
  {
   "cell_type": "markdown",
   "id": "43b56685-27f2-41f4-86c9-bbb9cb7dda5f",
   "metadata": {},
   "source": [
    "#### ALSO IN THIS CASE, LET'S TAKE THE \"MIBs\" KIND OF BRANCHINGS. "
   ]
  },
  {
   "cell_type": "markdown",
   "id": "13ae13e0-a29d-4574-bbca-9f8468dc6fca",
   "metadata": {},
   "source": [
    "# Compute  branching rate per gli MIB (AFTER FUSION) "
   ]
  },
  {
   "cell_type": "code",
   "execution_count": 8,
   "id": "57540504-0db9-4f9f-a8be-35b8d30fdee2",
   "metadata": {},
   "outputs": [],
   "source": [
    "# Prendo gli MIB \n",
    "v_ap = 45\n",
    "times_MIB_dict={}\n",
    "distances_MIB_dict = {}\n",
    "\n",
    "for b in time_diffs_dict_ap.keys():\n",
    "    times_MIB_dict[b] = {}\n",
    "    distances_MIB_dict[b] = {}\n",
    "    for j in time_diffs_dict_ap[b].keys(): \n",
    "        dist = distances_dict_ap[b][j]\n",
    "        time = time_diffs_dict_ap[b][j]\n",
    "        L_MIB = v_ap * (tau - time)\n",
    "        if dist <= L_MIB:  \n",
    "    \n",
    "            times_MIB_dict[b][j] = time \n",
    "            distances_MIB_dict[b][j] = dist"
   ]
  },
  {
   "cell_type": "code",
   "execution_count": 9,
   "id": "82b6f1a6-43c4-447e-827e-20775536bf5e",
   "metadata": {},
   "outputs": [
    {
     "ename": "NameError",
     "evalue": "name 'x_values' is not defined",
     "output_type": "error",
     "traceback": [
      "\u001b[1;31m---------------------------------------------------------------------------\u001b[0m",
      "\u001b[1;31mNameError\u001b[0m                                 Traceback (most recent call last)",
      "Cell \u001b[1;32mIn[9], line 6\u001b[0m\n\u001b[0;32m      3\u001b[0m values_timez \u001b[38;5;241m=\u001b[39m {key: \u001b[38;5;28mlist\u001b[39m(value\u001b[38;5;241m.\u001b[39mvalues()) \u001b[38;5;28;01mfor\u001b[39;00m key, value \u001b[38;5;129;01min\u001b[39;00m times_MIB_dict\u001b[38;5;241m.\u001b[39mitems()}\n\u001b[0;32m      4\u001b[0m \u001b[38;5;66;03m# Plotting\u001b[39;00m\n\u001b[1;32m----> 6\u001b[0m plt\u001b[38;5;241m.\u001b[39mplot(x_values , y_values_ap , label \u001b[38;5;241m=\u001b[39m \u001b[38;5;124m'\u001b[39m\u001b[38;5;124mApical\u001b[39m\u001b[38;5;124m'\u001b[39m)\n\u001b[0;32m      8\u001b[0m \u001b[38;5;28;01mfor\u001b[39;00m key, value \u001b[38;5;129;01min\u001b[39;00m values_dist\u001b[38;5;241m.\u001b[39mitems():\n\u001b[0;32m      9\u001b[0m     plt\u001b[38;5;241m.\u001b[39mscatter( values_timez[key] ,value )\n",
      "\u001b[1;31mNameError\u001b[0m: name 'x_values' is not defined"
     ]
    }
   ],
   "source": [
    "# Extracting the values\n",
    "values_dist = {key: list(value.values()) for key, value in distances_MIB_dict.items()}\n",
    "values_timez = {key: list(value.values()) for key, value in times_MIB_dict.items()}\n",
    "# Plotting\n",
    "\n",
    "plt.plot(x_values , y_values_ap , label = 'Apical')\n",
    "\n",
    "for key, value in values_dist.items():\n",
    "    plt.scatter( values_timez[key] ,value )\n",
    "\n",
    "plt.show()"
   ]
  },
  {
   "cell_type": "code",
   "execution_count": 10,
   "id": "2430c034-6eae-47fb-a89f-0f462aa544d4",
   "metadata": {},
   "outputs": [],
   "source": [
    "rates_MIB={}      #qui con rates intendiamo #apical branchings su quel ramo / tempo di vita del ramo? \n",
    "for b in distances_MIB_dict:\n",
    "    N = len(distances_MIB_dict[b])\n",
    "    \n",
    "    life=5\n",
    "    rates_MIB[b] = N/life\n"
   ]
  },
  {
   "cell_type": "code",
   "execution_count": 11,
   "id": "ee90aa54-2a61-482c-b188-b27e3ccdc80c",
   "metadata": {},
   "outputs": [
    {
     "ename": "ValueError",
     "evalue": "supplied range of [0.047619047619047616, inf] is not finite",
     "output_type": "error",
     "traceback": [
      "\u001b[1;31m---------------------------------------------------------------------------\u001b[0m",
      "\u001b[1;31mValueError\u001b[0m                                Traceback (most recent call last)",
      "Cell \u001b[1;32mIn[11], line 5\u001b[0m\n\u001b[0;32m      3\u001b[0m \u001b[38;5;66;03m# Plot histograms\u001b[39;00m\n\u001b[0;32m      4\u001b[0m axs[\u001b[38;5;241m0\u001b[39m]\u001b[38;5;241m.\u001b[39mhist(\u001b[38;5;28mlist\u001b[39m(rates_MIB\u001b[38;5;241m.\u001b[39mvalues()), bins\u001b[38;5;241m=\u001b[39m\u001b[38;5;241m3\u001b[39m, density\u001b[38;5;241m=\u001b[39m\u001b[38;5;28;01mTrue\u001b[39;00m, label\u001b[38;5;241m=\u001b[39m\u001b[38;5;124m'\u001b[39m\u001b[38;5;124mMIB\u001b[39m\u001b[38;5;124m'\u001b[39m, alpha\u001b[38;5;241m=\u001b[39m\u001b[38;5;241m0.5\u001b[39m)\n\u001b[1;32m----> 5\u001b[0m axs[\u001b[38;5;241m0\u001b[39m]\u001b[38;5;241m.\u001b[39mhist(\u001b[38;5;28mlist\u001b[39m(rates\u001b[38;5;241m.\u001b[39mvalues()), bins\u001b[38;5;241m=\u001b[39m\u001b[38;5;241m5\u001b[39m, density\u001b[38;5;241m=\u001b[39m\u001b[38;5;28;01mTrue\u001b[39;00m, label\u001b[38;5;241m=\u001b[39m\u001b[38;5;124m'\u001b[39m\u001b[38;5;124mNormal\u001b[39m\u001b[38;5;124m'\u001b[39m, alpha\u001b[38;5;241m=\u001b[39m\u001b[38;5;241m0.5\u001b[39m)\n\u001b[0;32m      6\u001b[0m axs[\u001b[38;5;241m0\u001b[39m]\u001b[38;5;241m.\u001b[39mset_title(\u001b[38;5;124m'\u001b[39m\u001b[38;5;124mHistograms\u001b[39m\u001b[38;5;124m'\u001b[39m)\n\u001b[0;32m      7\u001b[0m axs[\u001b[38;5;241m0\u001b[39m]\u001b[38;5;241m.\u001b[39mlegend()\n",
      "File \u001b[1;32m~\\anaconda3.1\\Lib\\site-packages\\matplotlib\\__init__.py:1446\u001b[0m, in \u001b[0;36m_preprocess_data.<locals>.inner\u001b[1;34m(ax, data, *args, **kwargs)\u001b[0m\n\u001b[0;32m   1443\u001b[0m \u001b[38;5;129m@functools\u001b[39m\u001b[38;5;241m.\u001b[39mwraps(func)\n\u001b[0;32m   1444\u001b[0m \u001b[38;5;28;01mdef\u001b[39;00m \u001b[38;5;21minner\u001b[39m(ax, \u001b[38;5;241m*\u001b[39margs, data\u001b[38;5;241m=\u001b[39m\u001b[38;5;28;01mNone\u001b[39;00m, \u001b[38;5;241m*\u001b[39m\u001b[38;5;241m*\u001b[39mkwargs):\n\u001b[0;32m   1445\u001b[0m     \u001b[38;5;28;01mif\u001b[39;00m data \u001b[38;5;129;01mis\u001b[39;00m \u001b[38;5;28;01mNone\u001b[39;00m:\n\u001b[1;32m-> 1446\u001b[0m         \u001b[38;5;28;01mreturn\u001b[39;00m func(ax, \u001b[38;5;241m*\u001b[39m\u001b[38;5;28mmap\u001b[39m(sanitize_sequence, args), \u001b[38;5;241m*\u001b[39m\u001b[38;5;241m*\u001b[39mkwargs)\n\u001b[0;32m   1448\u001b[0m     bound \u001b[38;5;241m=\u001b[39m new_sig\u001b[38;5;241m.\u001b[39mbind(ax, \u001b[38;5;241m*\u001b[39margs, \u001b[38;5;241m*\u001b[39m\u001b[38;5;241m*\u001b[39mkwargs)\n\u001b[0;32m   1449\u001b[0m     auto_label \u001b[38;5;241m=\u001b[39m (bound\u001b[38;5;241m.\u001b[39marguments\u001b[38;5;241m.\u001b[39mget(label_namer)\n\u001b[0;32m   1450\u001b[0m                   \u001b[38;5;129;01mor\u001b[39;00m bound\u001b[38;5;241m.\u001b[39mkwargs\u001b[38;5;241m.\u001b[39mget(label_namer))\n",
      "File \u001b[1;32m~\\anaconda3.1\\Lib\\site-packages\\matplotlib\\axes\\_axes.py:6791\u001b[0m, in \u001b[0;36mAxes.hist\u001b[1;34m(self, x, bins, range, density, weights, cumulative, bottom, histtype, align, orientation, rwidth, log, color, label, stacked, **kwargs)\u001b[0m\n\u001b[0;32m   6787\u001b[0m \u001b[38;5;66;03m# Loop through datasets\u001b[39;00m\n\u001b[0;32m   6788\u001b[0m \u001b[38;5;28;01mfor\u001b[39;00m i \u001b[38;5;129;01min\u001b[39;00m \u001b[38;5;28mrange\u001b[39m(nx):\n\u001b[0;32m   6789\u001b[0m     \u001b[38;5;66;03m# this will automatically overwrite bins,\u001b[39;00m\n\u001b[0;32m   6790\u001b[0m     \u001b[38;5;66;03m# so that each histogram uses the same bins\u001b[39;00m\n\u001b[1;32m-> 6791\u001b[0m     m, bins \u001b[38;5;241m=\u001b[39m np\u001b[38;5;241m.\u001b[39mhistogram(x[i], bins, weights\u001b[38;5;241m=\u001b[39mw[i], \u001b[38;5;241m*\u001b[39m\u001b[38;5;241m*\u001b[39mhist_kwargs)\n\u001b[0;32m   6792\u001b[0m     tops\u001b[38;5;241m.\u001b[39mappend(m)\n\u001b[0;32m   6793\u001b[0m tops \u001b[38;5;241m=\u001b[39m np\u001b[38;5;241m.\u001b[39marray(tops, \u001b[38;5;28mfloat\u001b[39m)  \u001b[38;5;66;03m# causes problems later if it's an int\u001b[39;00m\n",
      "File \u001b[1;32m<__array_function__ internals>:200\u001b[0m, in \u001b[0;36mhistogram\u001b[1;34m(*args, **kwargs)\u001b[0m\n",
      "File \u001b[1;32m~\\anaconda3.1\\Lib\\site-packages\\numpy\\lib\\histograms.py:780\u001b[0m, in \u001b[0;36mhistogram\u001b[1;34m(a, bins, range, density, weights)\u001b[0m\n\u001b[0;32m    680\u001b[0m \u001b[38;5;250m\u001b[39m\u001b[38;5;124mr\u001b[39m\u001b[38;5;124;03m\"\"\"\u001b[39;00m\n\u001b[0;32m    681\u001b[0m \u001b[38;5;124;03mCompute the histogram of a dataset.\u001b[39;00m\n\u001b[0;32m    682\u001b[0m \n\u001b[1;32m   (...)\u001b[0m\n\u001b[0;32m    776\u001b[0m \n\u001b[0;32m    777\u001b[0m \u001b[38;5;124;03m\"\"\"\u001b[39;00m\n\u001b[0;32m    778\u001b[0m a, weights \u001b[38;5;241m=\u001b[39m _ravel_and_check_weights(a, weights)\n\u001b[1;32m--> 780\u001b[0m bin_edges, uniform_bins \u001b[38;5;241m=\u001b[39m _get_bin_edges(a, bins, \u001b[38;5;28mrange\u001b[39m, weights)\n\u001b[0;32m    782\u001b[0m \u001b[38;5;66;03m# Histogram is an integer or a float array depending on the weights.\u001b[39;00m\n\u001b[0;32m    783\u001b[0m \u001b[38;5;28;01mif\u001b[39;00m weights \u001b[38;5;129;01mis\u001b[39;00m \u001b[38;5;28;01mNone\u001b[39;00m:\n",
      "File \u001b[1;32m~\\anaconda3.1\\Lib\\site-packages\\numpy\\lib\\histograms.py:426\u001b[0m, in \u001b[0;36m_get_bin_edges\u001b[1;34m(a, bins, range, weights)\u001b[0m\n\u001b[0;32m    423\u001b[0m     \u001b[38;5;28;01mif\u001b[39;00m n_equal_bins \u001b[38;5;241m<\u001b[39m \u001b[38;5;241m1\u001b[39m:\n\u001b[0;32m    424\u001b[0m         \u001b[38;5;28;01mraise\u001b[39;00m \u001b[38;5;167;01mValueError\u001b[39;00m(\u001b[38;5;124m'\u001b[39m\u001b[38;5;124m`bins` must be positive, when an integer\u001b[39m\u001b[38;5;124m'\u001b[39m)\n\u001b[1;32m--> 426\u001b[0m     first_edge, last_edge \u001b[38;5;241m=\u001b[39m _get_outer_edges(a, \u001b[38;5;28mrange\u001b[39m)\n\u001b[0;32m    428\u001b[0m \u001b[38;5;28;01melif\u001b[39;00m np\u001b[38;5;241m.\u001b[39mndim(bins) \u001b[38;5;241m==\u001b[39m \u001b[38;5;241m1\u001b[39m:\n\u001b[0;32m    429\u001b[0m     bin_edges \u001b[38;5;241m=\u001b[39m np\u001b[38;5;241m.\u001b[39masarray(bins)\n",
      "File \u001b[1;32m~\\anaconda3.1\\Lib\\site-packages\\numpy\\lib\\histograms.py:315\u001b[0m, in \u001b[0;36m_get_outer_edges\u001b[1;34m(a, range)\u001b[0m\n\u001b[0;32m    312\u001b[0m         \u001b[38;5;28;01mraise\u001b[39;00m \u001b[38;5;167;01mValueError\u001b[39;00m(\n\u001b[0;32m    313\u001b[0m             \u001b[38;5;124m'\u001b[39m\u001b[38;5;124mmax must be larger than min in range parameter.\u001b[39m\u001b[38;5;124m'\u001b[39m)\n\u001b[0;32m    314\u001b[0m     \u001b[38;5;28;01mif\u001b[39;00m \u001b[38;5;129;01mnot\u001b[39;00m (np\u001b[38;5;241m.\u001b[39misfinite(first_edge) \u001b[38;5;129;01mand\u001b[39;00m np\u001b[38;5;241m.\u001b[39misfinite(last_edge)):\n\u001b[1;32m--> 315\u001b[0m         \u001b[38;5;28;01mraise\u001b[39;00m \u001b[38;5;167;01mValueError\u001b[39;00m(\n\u001b[0;32m    316\u001b[0m             \u001b[38;5;124m\"\u001b[39m\u001b[38;5;124msupplied range of [\u001b[39m\u001b[38;5;132;01m{}\u001b[39;00m\u001b[38;5;124m, \u001b[39m\u001b[38;5;132;01m{}\u001b[39;00m\u001b[38;5;124m] is not finite\u001b[39m\u001b[38;5;124m\"\u001b[39m\u001b[38;5;241m.\u001b[39mformat(first_edge, last_edge))\n\u001b[0;32m    317\u001b[0m \u001b[38;5;28;01melif\u001b[39;00m a\u001b[38;5;241m.\u001b[39msize \u001b[38;5;241m==\u001b[39m \u001b[38;5;241m0\u001b[39m:\n\u001b[0;32m    318\u001b[0m     \u001b[38;5;66;03m# handle empty arrays. Can't determine range, so use 0-1.\u001b[39;00m\n\u001b[0;32m    319\u001b[0m     first_edge, last_edge \u001b[38;5;241m=\u001b[39m \u001b[38;5;241m0\u001b[39m, \u001b[38;5;241m1\u001b[39m\n",
      "\u001b[1;31mValueError\u001b[0m: supplied range of [0.047619047619047616, inf] is not finite"
     ]
    },
    {
     "data": {
      "image/png": "[encoded data removed]",
      "text/plain": [
       "<Figure size 1200x500 with 2 Axes>"
      ]
     },
     "metadata": {},
     "output_type": "display_data"
    }
   ],
   "source": [
    "# Create subplots\n",
    "fig, axs = plt.subplots(1, 2, figsize=(12, 5))\n",
    "# Plot histograms\n",
    "axs[0].hist(list(rates_MIB.values()), bins=3, density=True, label='MIB', alpha=0.5)\n",
    "axs[0].hist(list(rates.values()), bins=5, density=True, label='Normal', alpha=0.5)\n",
    "axs[0].set_title('Histograms')\n",
    "axs[0].legend()\n",
    "\n",
    "# Plot cumulative distributions\n",
    "axs[1].hist(list(rates_MIB.values()), bins=50, density=True, histtype='step', cumulative=True, label='MIB', color='blue')\n",
    "axs[1].hist(list(rates.values()), bins=5, density=True, histtype='step', cumulative=True, label='Normal', color='orange')\n",
    "axs[1].set_title('Cumulative Distributions')\n",
    "axs[1].legend()\n",
    "axs[0].set_xlabel('Rates')\n",
    "axs[1].set_xlabel('Rates')\n",
    "\n",
    "plt.show()"
   ]
  },
  {
   "cell_type": "code",
   "execution_count": null,
   "id": "6cbb74af-6f71-427a-96b1-421211a6e1b9",
   "metadata": {},
   "outputs": [],
   "source": [
    "from scipy.stats import kstest\n",
    "statistic, p_value = kstest(list(rates.values()),list(rates_MIB.values()) )\n",
    "print(\"Kolmogorov-Smirnov test statistic:\", statistic)\n",
    "print(\"p-value:\", p_value)"
   ]
  },
  {
   "cell_type": "markdown",
   "id": "9a61c2ba-54a1-4758-965a-4d2860a72665",
   "metadata": {},
   "source": [
    "# CALCULATE BRANCHING RATE FOR GENERIC NOT FUSING BRANCHES (APICAL SONS) "
   ]
  },
  {
   "cell_type": "markdown",
   "id": "2403ff88-3747-4a84-936b-19a7f4501d26",
   "metadata": {},
   "source": [
    "### In questo caso hai preso quelli che NON finiscono in fusione, ma prova anche a prendere sia quelli che finsicono in fusione che non al patto che gli apical siano considerati prima della fusione. \n",
    "\n",
    "\n",
    "### In this case you took all of branching NOT ending in fusion but we'll try as well to take also apical sons born on ANY mother "
   ]
  },
  {
   "cell_type": "code",
   "execution_count": null,
   "id": "303382fb-d2da-4a69-b783-8042db203991",
   "metadata": {},
   "outputs": [],
   "source": [
    "\n",
    "count_dict = {}\n",
    "LIFE_dict = {}    #per i tempi \n",
    "\n",
    "for b in reseau.branches:                        #ciclo sulle mamme( ap o lateral che siano?) che finiscono MIB \n",
    "    if b.ending != 'Fusion?':\n",
    "        vita = b.get_tend() - b.get_tstart()\n",
    "        vicini_out = reseau.neighborhood()[b.index]['out'] \n",
    "        count = 0\n",
    "        for j in vicini_out:  \n",
    "            if vita > 0:#prendo i vicini APICAL uscenti delle mamme\n",
    "                starting_node = j.noeuds[0] \n",
    "                starting_time = j.get_tstart() \n",
    "                if starting_node in apicalBranching: \n",
    "                    count += 1 \n",
    "                count_dict[b] = count \n",
    "                LIFE_dict[b] = vita"
   ]
  },
  {
   "cell_type": "code",
   "execution_count": null,
   "id": "5bff840f-076b-48bd-8150-30a049e53dcc",
   "metadata": {},
   "outputs": [],
   "source": [
    "rates_not_fusion = {}\n",
    "for j in count_dict.keys():   \n",
    "    rates_not_fusion[j] = count_dict[j] / LIFE_dict[j]\n"
   ]
  },
  {
   "cell_type": "code",
   "execution_count": null,
   "id": "84299bb8-eaea-471f-b7bd-114858165431",
   "metadata": {},
   "outputs": [],
   "source": [
    "\n",
    "fig, axs = plt.subplots(1, 2, figsize=(12, 5))\n",
    "\n",
    "# Plot degli istogrammi per il primo grafico\n",
    "axs[0].hist(list(rates_not_fusion.values()), bins=5, density=True)\n",
    "axs[0].hist(list(rates_MIB.values()) , bins=3, density=True, label='MIB', alpha=0.5) \n",
    "axs[0].set_title('Branching rates of apical sons of non FUSION mothers')\n",
    "axs[0].legend()\n",
    "axs[0].set_xlabel('Rates')\n",
    "\n",
    "# Plot delle distribuzioni cumulative per il secondo grafico\n",
    "axs[1].hist(list(rates_not_fusion.values()), bins=30, density=True, histtype='step', cumulative=True)\n",
    "axs[1].hist(list(rates_MIB.values()), bins=30, density=True, histtype='step', cumulative=True, label='MIB', color='orange')\n",
    "axs[1].set_title('Cumulative distributions')\n",
    "axs[1].legend()\n",
    "axs[1].set_xlabel('Rates')\n",
    "\n",
    "plt.show()\n"
   ]
  },
  {
   "cell_type": "code",
   "execution_count": null,
   "id": "645f562b-153a-4ab1-a1e5-feba480a1286",
   "metadata": {},
   "outputs": [],
   "source": [
    "statistic, p_value = kstest(list(rates_not_fusion.values()),list(rates_MIB.values()) )\n",
    "print(\"Kolmogorov-Smirnov test statistic:\", statistic)\n",
    "print(\"p-value:\", p_value)"
   ]
  },
  {
   "cell_type": "markdown",
   "id": "0253bec4-45e3-4abc-a064-a3415dfaf73f",
   "metadata": {},
   "source": [
    "## LET'S ALSO CONSIDER THE BRANCHING RATES OF ALL THE APICAL SONS BORN BEFORE THE FUSION OR THE EVOLUTION OF THE MOTHER "
   ]
  },
  {
   "cell_type": "code",
   "execution_count": null,
   "id": "c947ce32-3760-407b-aac8-677ee596cf2f",
   "metadata": {},
   "outputs": [],
   "source": [
    "\n",
    "count_dict_all = {}\n",
    "LIFE_dict_all = {}    #per i tempi \n",
    "\n",
    "for b in reseau.branches:                        #ciclo sulle mamme( ap o lateral che siano?) che finiscono MIB \n",
    "    \n",
    "    vita = b.get_tend() - b.get_tstart()\n",
    "    vicini_out = reseau.neighborhood()[b.index]['out'] \n",
    "    count = 0\n",
    "    for j in vicini_out:  \n",
    "        birth = j.get_tstart()\n",
    "        if vita > 0:#prendo i vicini APICAL uscenti delle mamme\n",
    "            if birth < b.get_tend(): #all the nodes born before the end of the mother \n",
    "                starting_node = j.noeuds[0] \n",
    "                starting_time = j.get_tstart() \n",
    "                if starting_node in apicalBranching: \n",
    "                    count += 1 \n",
    "                count_dict_all[b] = count \n",
    "                LIFE_dict_all[b] = vita\n",
    "\n",
    "rates_all_not_MIB={}\n",
    "\n",
    "for j in count_dict_all.keys():   \n",
    "    rates_all_not_MIB[j] = count_dict_all[j] / LIFE_dict_all[j]\n"
   ]
  },
  {
   "cell_type": "code",
   "execution_count": null,
   "id": "c48f6c55-f4ea-43a0-9faa-06f4ffb724fd",
   "metadata": {},
   "outputs": [],
   "source": [
    "fig, axs = plt.subplots(1, 2, figsize=(12, 5))\n",
    "\n",
    "# Plot degli istogrammi per il primo grafico\n",
    "axs[0].hist(list(rates_MIB.values()), bins=3, density=True, label='MIB', alpha=0.5) \n",
    "axs[0].hist(list(rates_all_not_MIB.values()), density=True, alpha=0.5)\n",
    "axs[0].set_title('Branching rates of apical sons of any mothers')\n",
    "axs[0].set_xlabel('rates')\n",
    "axs[0].legend()\n",
    "\n",
    "# Plot delle distribuzioni cumulative per il secondo grafico\n",
    "axs[1].hist(list(rates_MIB.values()), bins=30, density=True, histtype='step', cumulative=True, label='MIB', color='blue')\n",
    "axs[1].hist(list(rates_all_not_MIB.values()), bins=30, density=True, histtype='step', cumulative=True, color='orange')\n",
    "axs[1].set_title('Cumulative distributions')\n",
    "axs[1].set_xlabel('rates')\n",
    "\n",
    "plt.show()"
   ]
  },
  {
   "cell_type": "code",
   "execution_count": 12,
   "id": "734e7b05-e39b-4b51-af96-587d5873cf7a",
   "metadata": {},
   "outputs": [
    {
     "ename": "NameError",
     "evalue": "name 'kstest' is not defined",
     "output_type": "error",
     "traceback": [
      "\u001b[1;31m---------------------------------------------------------------------------\u001b[0m",
      "\u001b[1;31mNameError\u001b[0m                                 Traceback (most recent call last)",
      "Cell \u001b[1;32mIn[12], line 1\u001b[0m\n\u001b[1;32m----> 1\u001b[0m statistic, p_value \u001b[38;5;241m=\u001b[39m kstest(\u001b[38;5;28mlist\u001b[39m(rates_all_not_MIB\u001b[38;5;241m.\u001b[39mvalues()),\u001b[38;5;28mlist\u001b[39m(rates_MIB\u001b[38;5;241m.\u001b[39mvalues()) )\n\u001b[0;32m      2\u001b[0m \u001b[38;5;28mprint\u001b[39m(\u001b[38;5;124m\"\u001b[39m\u001b[38;5;124mKolmogorov-Smirnov test statistic:\u001b[39m\u001b[38;5;124m\"\u001b[39m, statistic)\n\u001b[0;32m      3\u001b[0m \u001b[38;5;28mprint\u001b[39m(\u001b[38;5;124m\"\u001b[39m\u001b[38;5;124mp-value:\u001b[39m\u001b[38;5;124m\"\u001b[39m, p_value)\n",
      "\u001b[1;31mNameError\u001b[0m: name 'kstest' is not defined"
     ]
    }
   ],
   "source": [
    "statistic, p_value = kstest(list(rates_all_not_MIB.values()),list(rates_MIB.values()) )\n",
    "print(\"Kolmogorov-Smirnov test statistic:\", statistic)\n",
    "print(\"p-value:\", p_value)"
   ]
  },
  {
   "cell_type": "code",
   "execution_count": null,
   "id": "90b6cfe6-6149-403b-827c-fa580509afed",
   "metadata": {},
   "outputs": [],
   "source": []
  },
  {
   "cell_type": "code",
   "execution_count": null,
   "id": "4b532eec-3ae8-445c-bb1f-b3251f104ccf",
   "metadata": {},
   "outputs": [],
   "source": []
  },
  {
   "cell_type": "code",
   "execution_count": null,
   "id": "8f50f8c6",
   "metadata": {},
   "outputs": [],
   "source": []
  }
 ],
 "metadata": {
  "kernelspec": {
   "display_name": "Python 3 (ipykernel)",
   "language": "python",
   "name": "python3"
  },
  "language_info": {
   "codemirror_mode": {
    "name": "ipython",
    "version": 3
   },
   "file_extension": ".py",
   "mimetype": "text/x-python",
   "name": "python",
   "nbconvert_exporter": "python",
   "pygments_lexer": "ipython3",
   "version": "3.11.5"
  }
 },
 "nbformat": 4,
 "nbformat_minor": 5
}
