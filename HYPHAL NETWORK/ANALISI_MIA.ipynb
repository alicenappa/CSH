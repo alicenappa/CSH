{
 "cells": [
  {
   "cell_type": "markdown",
   "id": "8a6d92e5",
   "metadata": {},
   "source": [
    "PROVA: I uploaded all the files present in the  hard disk in the file declaration_tutti.py, so I need to import all of them and to let them \"evolve\" to  create the network and begin analysis. "
   ]
  },
  {
   "cell_type": "code",
   "execution_count": 15,
   "id": "49d6f34e",
   "metadata": {},
   "outputs": [],
   "source": [
    "#Les bibliothèques classiques\n",
    "import matplotlib.pyplot as plt #To make figure\n",
    "plt.rcParams.update({'font.size':12})#To make figure readable\n",
    "import numpy as np #For everything\n",
    "import networkx as nx #To open the graph\n",
    "from tqdm import tqdm #For nice loading bars\n",
    "from scipy.optimize import curve_fit\n",
    "#Et nos propres fichiers\n",
    "from declaration_tutti import load, treat_a_new_reseau, load_from_scratch\n",
    "from Reseau import Reseau,Branche\n",
    "from fct_utils import prune\n",
    "reseaux_name = [\n",
    "    #\"M2WT_200610\",\n",
    "    #\"M2WT_200616\",\n",
    "    #\"M2WT_200617\",\n",
    "    #\"M2WT_210304\",\n",
    "    #\"M2WT_210909\",\n",
    "    #\"M2WT_210908\",\n",
    "    #\"M2WT_noir_210617\", #questo funziona\n",
    "    #\"M0WT_200615\",\n",
    "    \"KCl_210111\",\n",
    "    #\"T35_220127\",  #funziona\n",
    "   # \"T35_220309\",  #funziona\n",
    "    #\"T35_220201\"    #lui vuole il file gpickle\n",
    "]"
   ]
  },
  {
   "cell_type": "code",
   "execution_count": null,
   "id": "2b70d3a9",
   "metadata": {},
   "outputs": [
    {
     "name": "stdout",
     "output_type": "stream",
     "text": [
      "Dealing with network KCl_210111\n",
      "\n",
      "--------------------------------------------------------------------------------\n",
      "\tDébut du nettoyage\n"
     ]
    },
    {
     "name": "stderr",
     "output_type": "stream",
     "text": [
      "Filtration des liens trop long ...: 100%|██████████| 99366/99366 [00:00<00:00, 284030.24it/s]\n"
     ]
    },
    {
     "name": "stdout",
     "output_type": "stream",
     "text": [
      "0 lien(s) supprimé(s) car trop long.\n"
     ]
    },
    {
     "name": "stderr",
     "output_type": "stream",
     "text": [
      "Recherche des doublons...: 98109it [00:15, 6442.28it/s] \n"
     ]
    },
    {
     "name": "stdout",
     "output_type": "stream",
     "text": [
      "Nombre de noeuds supprimés : 30653\n",
      "Soit : 31.24% des noeuds.\n",
      "Petit nettoyage supplémentaire pour bien finir ...\n"
     ]
    },
    {
     "name": "stderr",
     "output_type": "stream",
     "text": [
      "Filtrage des autoconnections...: 100%|██████████| 99362/99362 [00:00<00:00, 682575.13it/s]\n"
     ]
    },
    {
     "name": "stdout",
     "output_type": "stream",
     "text": [
      "Suppression de 30658 autoconnection(s)\n"
     ]
    },
    {
     "name": "stderr",
     "output_type": "stream",
     "text": [
      "Verification de la longueur des départs ... : 100%|██████████| 902/902 [00:00<00:00, 10683.29it/s]\n"
     ]
    },
    {
     "name": "stdout",
     "output_type": "stream",
     "text": [
      "170 noeud(s) supprimé(s) pour cause de départ précoce\n"
     ]
    },
    {
     "name": "stderr",
     "output_type": "stream",
     "text": [
      "Verification de la longueur des départs ... : 100%|██████████| 869/869 [00:00<00:00, 9040.28it/s]\n"
     ]
    },
    {
     "name": "stdout",
     "output_type": "stream",
     "text": [
      "0 noeud(s) supprimé(s) pour cause de départ précoce\n",
      "\tFin du nettoyage\n",
      "--------------------------------------------------------------------------------\n",
      "\n",
      "\n",
      "--------------------------------------------------------------------------------\n",
      "\t\tCalcul de la coordonnée temporelle\n",
      "\tDatation des pixels de l'image binarisée finale.\n"
     ]
    },
    {
     "name": "stderr",
     "output_type": "stream",
     "text": [
      "100%|██████████| 76/76 [00:06<00:00, 12.59it/s]\n",
      "Promenade parmi les pixels: 100%|██████████| 20/20 [01:53<00:00,  5.69s/it]\n"
     ]
    },
    {
     "name": "stdout",
     "output_type": "stream",
     "text": [
      "\tEnregistrement de la datation des pixels\n",
      "\tDatation préliminaire des noeuds du réseau.\n"
     ]
    },
    {
     "name": "stderr",
     "output_type": "stream",
     "text": [
      "100%|██████████| 67287/67287 [00:12<00:00, 5405.99it/s]\n"
     ]
    },
    {
     "name": "stdout",
     "output_type": "stream",
     "text": [
      "\tExtraction du réseau initial\n",
      "\tReconstruction itérative du réseau...\n"
     ]
    },
    {
     "name": "stderr",
     "output_type": "stream",
     "text": [
      "57it [02:16,  4.05s/it]"
     ]
    }
   ],
   "source": [
    "for name in reseaux_name:\n",
    "    print(\"Dealing with network\", name)\n",
    "    treat_a_new_reseau(name)"
   ]
  },
  {
   "cell_type": "code",
   "execution_count": null,
   "id": "5981c7d6",
   "metadata": {},
   "outputs": [],
   "source": []
  },
  {
   "cell_type": "code",
   "execution_count": null,
   "id": "26642dc4",
   "metadata": {},
   "outputs": [],
   "source": []
  }
 ],
 "metadata": {
  "kernelspec": {
   "display_name": "Python 3 (ipykernel)",
   "language": "python",
   "name": "python3"
  },
  "language_info": {
   "codemirror_mode": {
    "name": "ipython",
    "version": 3
   },
   "file_extension": ".py",
   "mimetype": "text/x-python",
   "name": "python",
   "nbconvert_exporter": "python",
   "pygments_lexer": "ipython3",
   "version": "3.11.5"
  }
 },
 "nbformat": 4,
 "nbformat_minor": 5
}
